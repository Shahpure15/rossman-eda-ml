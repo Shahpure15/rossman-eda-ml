{
 "cells": [
  {
   "cell_type": "code",
   "execution_count": 20,
   "id": "ca6c5bc2-1a2b-4846-a718-e12c7b39bb1b",
   "metadata": {},
   "outputs": [
    {
     "name": "stdout",
     "output_type": "stream",
     "text": [
      "Libraries loaded.\n"
     ]
    }
   ],
   "source": [
    "import pandas as pd\n",
    "import numpy as np\n",
    "import seaborn as sns\n",
    "import matplotlib.pyplot as plt\n",
    "\n",
    "print(\"Libraries loaded.\")"
   ]
  },
  {
   "cell_type": "code",
   "execution_count": 19,
   "id": "a345b279-356c-4173-9b08-84847891170b",
   "metadata": {},
   "outputs": [
    {
     "name": "stdout",
     "output_type": "stream",
     "text": [
      "Files loaded.\n",
      "Train shape: (1017209, 9)\n",
      "Test shape: (41088, 8)\n",
      "Store shape: (1115, 10)\n"
     ]
    },
    {
     "data": {
      "text/html": [
       "<div>\n",
       "<style scoped>\n",
       "    .dataframe tbody tr th:only-of-type {\n",
       "        vertical-align: middle;\n",
       "    }\n",
       "\n",
       "    .dataframe tbody tr th {\n",
       "        vertical-align: top;\n",
       "    }\n",
       "\n",
       "    .dataframe thead th {\n",
       "        text-align: right;\n",
       "    }\n",
       "</style>\n",
       "<table border=\"1\" class=\"dataframe\">\n",
       "  <thead>\n",
       "    <tr style=\"text-align: right;\">\n",
       "      <th></th>\n",
       "      <th>Store</th>\n",
       "      <th>DayOfWeek</th>\n",
       "      <th>Date</th>\n",
       "      <th>Sales</th>\n",
       "      <th>Customers</th>\n",
       "      <th>Open</th>\n",
       "      <th>Promo</th>\n",
       "      <th>StateHoliday</th>\n",
       "      <th>SchoolHoliday</th>\n",
       "    </tr>\n",
       "  </thead>\n",
       "  <tbody>\n",
       "    <tr>\n",
       "      <th>1017204</th>\n",
       "      <td>1111</td>\n",
       "      <td>2</td>\n",
       "      <td>01-01-2013</td>\n",
       "      <td>0</td>\n",
       "      <td>0</td>\n",
       "      <td>0</td>\n",
       "      <td>0</td>\n",
       "      <td>0</td>\n",
       "      <td>1</td>\n",
       "    </tr>\n",
       "    <tr>\n",
       "      <th>1017205</th>\n",
       "      <td>1112</td>\n",
       "      <td>2</td>\n",
       "      <td>01-01-2013</td>\n",
       "      <td>0</td>\n",
       "      <td>0</td>\n",
       "      <td>0</td>\n",
       "      <td>0</td>\n",
       "      <td>0</td>\n",
       "      <td>1</td>\n",
       "    </tr>\n",
       "    <tr>\n",
       "      <th>1017206</th>\n",
       "      <td>1113</td>\n",
       "      <td>2</td>\n",
       "      <td>01-01-2013</td>\n",
       "      <td>0</td>\n",
       "      <td>0</td>\n",
       "      <td>0</td>\n",
       "      <td>0</td>\n",
       "      <td>0</td>\n",
       "      <td>1</td>\n",
       "    </tr>\n",
       "    <tr>\n",
       "      <th>1017207</th>\n",
       "      <td>1114</td>\n",
       "      <td>2</td>\n",
       "      <td>01-01-2013</td>\n",
       "      <td>0</td>\n",
       "      <td>0</td>\n",
       "      <td>0</td>\n",
       "      <td>0</td>\n",
       "      <td>0</td>\n",
       "      <td>1</td>\n",
       "    </tr>\n",
       "    <tr>\n",
       "      <th>1017208</th>\n",
       "      <td>1115</td>\n",
       "      <td>2</td>\n",
       "      <td>01-01-2013</td>\n",
       "      <td>0</td>\n",
       "      <td>0</td>\n",
       "      <td>0</td>\n",
       "      <td>0</td>\n",
       "      <td>0</td>\n",
       "      <td>1</td>\n",
       "    </tr>\n",
       "  </tbody>\n",
       "</table>\n",
       "</div>"
      ],
      "text/plain": [
       "         Store  DayOfWeek        Date  Sales  Customers  Open  Promo  \\\n",
       "1017204   1111          2  01-01-2013      0          0     0      0   \n",
       "1017205   1112          2  01-01-2013      0          0     0      0   \n",
       "1017206   1113          2  01-01-2013      0          0     0      0   \n",
       "1017207   1114          2  01-01-2013      0          0     0      0   \n",
       "1017208   1115          2  01-01-2013      0          0     0      0   \n",
       "\n",
       "        StateHoliday  SchoolHoliday  \n",
       "1017204            0              1  \n",
       "1017205            0              1  \n",
       "1017206            0              1  \n",
       "1017207            0              1  \n",
       "1017208            0              1  "
      ]
     },
     "execution_count": 19,
     "metadata": {},
     "output_type": "execute_result"
    }
   ],
   "source": [
    "#Data loading and checking shape for basic understanding\n",
    "\n",
    "\n",
    "train = pd.read_csv(\"D:/BTD/rossman-eda-ml/data/raw/train.csv\",dtype={'StateHoliday': 'str'})\n",
    "test = pd.read_csv(\"D:/BTD/rossman-eda-ml/data/raw/test.csv\")\n",
    "store = pd.read_csv(\"D:/BTD/rossman-eda-ml/data/raw/store.csv\")\n",
    "\n",
    "print(\"Files loaded.\")\n",
    "print(\"Train shape:\", train.shape)\n",
    "print(\"Test shape:\", test.shape)\n",
    "print(\"Store shape:\", store.shape)\n",
    "\n",
    "store.head()\n",
    "train.tail()\n"
   ]
  },
  {
   "cell_type": "code",
   "execution_count": 22,
   "id": "4a6a7e2a-71db-4deb-8fe4-5934e272dd36",
   "metadata": {},
   "outputs": [
    {
     "name": "stdout",
     "output_type": "stream",
     "text": [
      "Train missing values:\n",
      "Store            0\n",
      "DayOfWeek        0\n",
      "Date             0\n",
      "Sales            0\n",
      "Customers        0\n",
      "Open             0\n",
      "Promo            0\n",
      "StateHoliday     0\n",
      "SchoolHoliday    0\n",
      "dtype: int64\n",
      "\n",
      "Store missing values:\n",
      "Store                          0\n",
      "StoreType                      0\n",
      "Assortment                     0\n",
      "CompetitionDistance            3\n",
      "CompetitionOpenSinceMonth    354\n",
      "CompetitionOpenSinceYear     354\n",
      "Promo2                         0\n",
      "Promo2SinceWeek              544\n",
      "Promo2SinceYear              544\n",
      "PromoInterval                544\n",
      "dtype: int64\n",
      "\n",
      "Test missing values:\n",
      "Id                0\n",
      "Store             0\n",
      "DayOfWeek         0\n",
      "Date              0\n",
      "Open             11\n",
      "Promo             0\n",
      "StateHoliday      0\n",
      "SchoolHoliday     0\n",
      "dtype: int64\n"
     ]
    }
   ],
   "source": [
    "#Checking null values before merging datasets\n",
    "\n",
    "print(\"Train missing values:\")\n",
    "print(train.isnull().sum())\n",
    "\n",
    "print(\"\\nStore missing values:\")\n",
    "print(store.isnull().sum())\n",
    "\n",
    "print(\"\\nTest missing values:\")\n",
    "print(test.isnull().sum())\n"
   ]
  },
  {
   "cell_type": "code",
   "execution_count": 25,
   "id": "40083c14-78b3-4320-8a6b-b6679b8c82ab",
   "metadata": {},
   "outputs": [
    {
     "name": "stdout",
     "output_type": "stream",
     "text": [
      "CompetitionDistance filled: 0 missing\n",
      "CompetitionOpenSinceMonth filled: 0 missing\n",
      "CompetitionOpenSinceYear filled: 0 missing\n",
      "Promo2SinceWeek filled: 0 missing\n",
      "Promo2SinceYear filled: 0 missing\n",
      "PromoInterval filled: 0 missing\n"
     ]
    }
   ],
   "source": [
    "#Store.csv Missing value handling\n",
    "\n",
    "#Competition Distance: Store dint know the distance to the nearest competitor store, so i will use medain to fullfill the null values\n",
    "store['CompetitionDistance'] = store['CompetitionDistance'].fillna(store['CompetitionDistance'].median())\n",
    "\n",
    "#CompetitionOpenSinceMonth & CompetitionOpenSinceYear: If no date -> assume no competition -> I could impute with the store’s open date, or just use 0.\n",
    "store['CompetitionOpenSinceMonth'] = store['CompetitionOpenSinceMonth'].fillna(store['CompetitionOpenSinceMonth'].mode()[0])\n",
    "store['CompetitionOpenSinceYear'] = store['CompetitionOpenSinceYear'].fillna(store['CompetitionOpenSinceYear'].mode()[0])\n",
    "\n",
    "#Promo2SinceWeek, Promo2SinceYear, PromoInterval: These stores don’t run continuous Promo2 campaigns, Missing actually means Promo2 = 0.\n",
    "store['Promo2SinceWeek'] = store['Promo2SinceWeek'].fillna(0)\n",
    "store['Promo2SinceYear'] = store['Promo2SinceYear'].fillna(0)\n",
    "store['PromoInterval'] = store['PromoInterval'].fillna('None')\n",
    "\n",
    "\n",
    "print(f\"CompetitionDistance filled: {store['CompetitionDistance'].isnull().sum()} missing\")\n",
    "print(f\"CompetitionOpenSinceMonth filled: {store['CompetitionOpenSinceMonth'].isnull().sum()} missing\")\n",
    "print(f\"CompetitionOpenSinceYear filled: {store['CompetitionOpenSinceYear'].isnull().sum()} missing\")\n",
    "print(f\"Promo2SinceWeek filled: {store['Promo2SinceWeek'].isnull().sum()} missing\")\n",
    "print(f\"Promo2SinceYear filled: {store['Promo2SinceYear'].isnull().sum()} missing\")\n",
    "print(f\"PromoInterval filled: {store['PromoInterval'].isnull().sum()} missing\")\n"
   ]
  },
  {
   "cell_type": "code",
   "execution_count": 29,
   "id": "680c2f2a-119b-4641-84b0-c053c494dc31",
   "metadata": {},
   "outputs": [
    {
     "name": "stdout",
     "output_type": "stream",
     "text": [
      "Open filled: 0 missing\n"
     ]
    }
   ],
   "source": [
    "#Test.csv Missing value handling\n",
    "\n",
    "#Store didnt’t know if the store was open on those days, this can happen because test data is from future dates(like holdiays store didnt know about)\n",
    "test['Open'] = test['Open'].fillna(1)\n",
    "\n",
    "#Result: check that Open has no missing values now\n",
    "print(f\"Open filled: {test['Open'].isnull().sum()} missing\")"
   ]
  },
  {
   "cell_type": "code",
   "execution_count": 33,
   "id": "056afd2b-ffcb-4b0a-a042-791dfc2d5b26",
   "metadata": {},
   "outputs": [
    {
     "name": "stdout",
     "output_type": "stream",
     "text": [
      "StoreType distribution:\n",
      "StoreType\n",
      "a    602\n",
      "d    348\n",
      "c    148\n",
      "b     17\n",
      "Name: count, dtype: int64\n",
      "This shows how many stores belong to each store type (a, b, c, d). Good for grouping.\n",
      "\n",
      "Assortment distribution:\n",
      "Assortment\n",
      "a    593\n",
      "c    513\n",
      "b      9\n",
      "Name: count, dtype: int64\n",
      "Shows how many stores have basic, extra, or extended product assortment.\n",
      "\n",
      "CompetitionDistance stats:\n",
      "count     1115.000000\n",
      "mean      5396.614350\n",
      "std       7654.513635\n",
      "min         20.000000\n",
      "25%        720.000000\n",
      "50%       2325.000000\n",
      "75%       6875.000000\n",
      "max      75860.000000\n",
      "Name: CompetitionDistance, dtype: float64\n",
      "Shows how close stores are to competitors. Median and spread help you see typical competition distances.\n"
     ]
    },
    {
     "data": {
      "image/png": "[encoded data removed]",
      "text/plain": [
       "<Figure size 800x400 with 1 Axes>"
      ]
     },
     "metadata": {},
     "output_type": "display_data"
    },
    {
     "name": "stdout",
     "output_type": "stream",
     "text": [
      "\n",
      "Promo2 distribution:\n",
      "Promo2\n",
      "1    571\n",
      "0    544\n",
      "Name: count, dtype: int64\n",
      "Shows how many stores run continuous promotions (Promo2) versus those that do not.\n"
     ]
    }
   ],
   "source": [
    "#Store.csv Individual insights\n",
    "\n",
    "# 1. StoreType distribution\n",
    "print(\"StoreType distribution:\")\n",
    "print(store['StoreType'].value_counts())\n",
    "print(\"This shows how many stores belong to each store type (a, b, c, d). Good for grouping.\")\n",
    "\n",
    "# 2. Assortment levels\n",
    "print(\"\\nAssortment distribution:\")\n",
    "print(store['Assortment'].value_counts())\n",
    "print(\"Shows how many stores have basic, extra, or extended product assortment.\")\n",
    "\n",
    "# 3. CompetitionDistance statistics\n",
    "print(\"\\nCompetitionDistance stats:\")\n",
    "print(store['CompetitionDistance'].describe())\n",
    "print(\"Shows how close stores are to competitors. Median and spread help you see typical competition distances.\")\n",
    "\n",
    "plt.figure(figsize=(8,4))\n",
    "sns.histplot(store['CompetitionDistance'], bins=50)\n",
    "plt.title(\"Competition Distance Distribution\")\n",
    "plt.show()\n",
    "\n",
    "# 4. Promo2 flag\n",
    "print(\"\\nPromo2 distribution:\")\n",
    "print(store['Promo2'].value_counts())\n",
    "print(\"Shows how many stores run continuous promotions (Promo2) versus those that do not.\")\n"
   ]
  },
  {
   "cell_type": "code",
   "execution_count": 34,
   "id": "43d79943-6cf9-4ac2-a2ac-6014f2457358",
   "metadata": {},
   "outputs": [
    {
     "name": "stdout",
     "output_type": "stream",
     "text": [
      "Train: Sales column basic stats:\n",
      "count    1.017209e+06\n",
      "mean     5.773819e+03\n",
      "std      3.849926e+03\n",
      "min      0.000000e+00\n",
      "25%      3.727000e+03\n",
      "50%      5.744000e+03\n",
      "75%      7.856000e+03\n",
      "max      4.155100e+04\n",
      "Name: Sales, dtype: float64\n",
      "\n",
      "This shows you the average daily sales, spread, and extreme values.\n",
      "\n",
      "Skewness: 0.6414596158103787  | Kurtosis: 1.7783747472372768\n",
      "Skewness tells you if the sales distribution is asymmetrical.\n",
      "Kurtosis tells you how heavy the tails are (extreme outliers).\n",
      "\n",
      "Average sales by day of the week:\n",
      "DayOfWeek\n",
      "1    7809.044510\n",
      "2    7005.244467\n",
      "3    6555.884138\n",
      "4    6247.575913\n",
      "5    6723.274305\n",
      "6    5847.562599\n",
      "7     204.183189\n",
      "Name: Sales, dtype: float64\n",
      "Shows which weekdays have higher or lower average sales.\n",
      "\n",
      "Unique sales values when store is closed: [0]\n",
      "Sales should be zero when stores are closed. This is a sanity check.\n",
      "\n",
      "StateHoliday distribution:\n",
      "StateHoliday\n",
      "0    987273\n",
      "a     19146\n",
      "b      6690\n",
      "c      4100\n",
      "Name: count, dtype: int64\n",
      "Shows how many days were public holidays or special holidays. Useful for holiday effect analysis.\n"
     ]
    },
    {
     "data": {
      "image/png": "[encoded data removed]",
      "text/plain": [
       "<Figure size 800x500 with 1 Axes>"
      ]
     },
     "metadata": {},
     "output_type": "display_data"
    },
    {
     "name": "stdout",
     "output_type": "stream",
     "text": [
      "More customers should generally mean higher sales. This shows that relationship.\n"
     ]
    }
   ],
   "source": [
    "#Train.csv individual insights\n",
    "\n",
    "# 1. Basic stats for Sales\n",
    "print(\"Train: Sales column basic stats:\")\n",
    "print(train['Sales'].describe())\n",
    "print(\"\\nThis shows you the average daily sales, spread, and extreme values.\")\n",
    "\n",
    "# 2. Skewness & kurtosis\n",
    "print(\"\\nSkewness:\", train['Sales'].skew(), \" | Kurtosis:\", train['Sales'].kurtosis())\n",
    "print(\"Skewness tells you if the sales distribution is asymmetrical.\")\n",
    "print(\"Kurtosis tells you how heavy the tails are (extreme outliers).\")\n",
    "\n",
    "# 3. Average sales by day of week\n",
    "print(\"\\nAverage sales by day of the week:\")\n",
    "print(train.groupby('DayOfWeek')['Sales'].mean())\n",
    "print(\"Shows which weekdays have higher or lower average sales.\")\n",
    "\n",
    "# 4. Check sales when store is closed\n",
    "closed_sales = train[train['Open'] == 0]['Sales'].unique()\n",
    "print(\"\\nUnique sales values when store is closed:\", closed_sales)\n",
    "print(\"Sales should be zero when stores are closed. This is a sanity check.\")\n",
    "\n",
    "# 5. StateHoliday distribution\n",
    "print(\"\\nStateHoliday distribution:\")\n",
    "print(train['StateHoliday'].value_counts())\n",
    "print(\"Shows how many days were public holidays or special holidays. Useful for holiday effect analysis.\")\n",
    "\n",
    "# 6. Scatter plot: Customers vs Sales\n",
    "import matplotlib.pyplot as plt\n",
    "import seaborn as sns\n",
    "\n",
    "plt.figure(figsize=(8,5))\n",
    "sns.scatterplot(data=train.sample(5000), x='Customers', y='Sales', alpha=0.3)\n",
    "plt.title(\"Customers vs Sales\")\n",
    "plt.show()\n",
    "print(\"More customers should generally mean higher sales. This shows that relationship.\")\n"
   ]
  },
  {
   "cell_type": "code",
   "execution_count": null,
   "id": "2ef23a03-a728-4c41-ba56-d8fada7c6dd1",
   "metadata": {},
   "outputs": [],
   "source": [
    "\"\"\"\n",
    "Skewness:\n",
    "\n",
    "0: Perfectly symmetric distribution (normal).\n",
    "\n",
    "> 0: Positively skewed → tail on the right side → more high extreme values.\n",
    "\n",
    "< 0: Negatively skewed → tail on the left side → more low extreme values.\n",
    "\n",
    "Between -0.5 and 0.5: Roughly symmetric.\n",
    "\n",
    "Above ±1: Highly skewed — you may need a transformation (like log).\n",
    "\n",
    "Kurtosis:\n",
    "\n",
    "≈ 0 (excess kurtosis): Similar to normal distribution tails.\n",
    "\n",
    "< 0: Platykurtic → flatter peak, light tails → fewer extreme outliers.\n",
    "\n",
    "> 0: Leptokurtic → sharper peak, heavy tails → more extreme outliers.\n",
    "\n",
    "> 3 (if using Fisher’s definition): More outliers than normal — check for influential points.\n",
    "\"\"\""
   ]
  },
  {
   "cell_type": "code",
   "execution_count": 36,
   "id": "a560d7fd-721f-4878-993f-eb737983d2b8",
   "metadata": {},
   "outputs": [
    {
     "name": "stdout",
     "output_type": "stream",
     "text": [
      "Test set date range:\n",
      "2015-08-01 to 2015-09-17\n",
      "Shows the period you of data on which we are foecasting. Useful to compare with the training period.\n",
      "\n",
      "Open column distribution:\n",
      "Open\n",
      "1    41088\n",
      "Name: count, dtype: int64\n",
      "Shows how many days stores are open or closed in the test.csv\n",
      "\n",
      "Promo flag distribution:\n",
      "Promo\n",
      "0    24824\n",
      "1    16264\n",
      "Name: count, dtype: int64\n",
      "Shows how many days in the test have an active promo(discounts or offers, stuff like that).\n",
      "\n",
      "StateHoliday distribution in test:\n",
      "StateHoliday\n",
      "0    40908\n",
      "a      180\n",
      "Name: count, dtype: int64\n",
      "Shows how many holiday days appear in the predicted period. Optional but good to check for seasonal effects on sales and performance :D.\n"
     ]
    }
   ],
   "source": [
    "#Test.csv individual insights\n",
    "\n",
    "# 1. Test set date range\n",
    "print(\"Test set date range:\")\n",
    "print(test['Date'].min(), \"to\", test['Date'].max())\n",
    "print(\"Shows the period you of data on which we are foecasting. Useful to compare with the training period.\")\n",
    "\n",
    "# 2. Open column check\n",
    "print(\"\\nOpen column distribution:\")\n",
    "print(test['Open'].value_counts(dropna=False))\n",
    "print(\"Shows how many days stores are open or closed in the test.csv\")\n",
    "\n",
    "# 3. Promo flag in test\n",
    "print(\"\\nPromo flag distribution:\")\n",
    "print(test['Promo'].value_counts())\n",
    "print(\"Shows how many days in the test have an active promo(discounts or offers, stuff like that).\")\n",
    "\n",
    "# 4. StateHoliday in test\n",
    "print(\"\\nStateHoliday distribution in test:\")\n",
    "print(test['StateHoliday'].value_counts())\n",
    "print(\"Shows how many holiday days appear in the predicted period. Optional but good to check for seasonal effects on sales and performance :D.\")\n"
   ]
  },
  {
   "cell_type": "code",
   "execution_count": null,
   "id": "1b1ba7c8-ddd5-4b01-8cba-2c8e50ce5155",
   "metadata": {},
   "outputs": [],
   "source": []
  }
 ],
 "metadata": {
  "kernelspec": {
   "display_name": "Python 3 (ipykernel)",
   "language": "python",
   "name": "python3"
  },
  "language_info": {
   "codemirror_mode": {
    "name": "ipython",
    "version": 3
   },
   "file_extension": ".py",
   "mimetype": "text/x-python",
   "name": "python",
   "nbconvert_exporter": "python",
   "pygments_lexer": "ipython3",
   "version": "3.10.0"
  }
 },
 "nbformat": 4,
 "nbformat_minor": 5
}
